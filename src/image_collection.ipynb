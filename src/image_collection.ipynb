{
 "cells": [
  {
   "cell_type": "code",
   "execution_count": 230,
   "metadata": {},
   "outputs": [
    {
     "data": {
      "text/plain": [
       "'\\nSTEPS\\n1. Find the image collection corresponding to LANDSAT7 data\\n2. Filter the collection to January 2005 outside of the rainy season\\n3. Load in village location data\\n4. Create function to load in lat and long data from each village row\\n5. Function creates EE.Geometry.Point object from each lat and long and sets a buffer of a certain radius\\n6. Function loads in all bands of data from that image and inputs it into correspond row of new dataframe\\n7. Function adds village category to each row\\n8. Train neural network to predict whether there is a village, destroyed village, or no settlmment in the image\\n'"
      ]
     },
     "execution_count": 230,
     "metadata": {},
     "output_type": "execute_result"
    }
   ],
   "source": [
    "\"\"\"\n",
    "STEPS\n",
    "1. Find the image collection corresponding to LANDSAT7 data\n",
    "2. Filter the collection to January 2005 outside of the rainy season\n",
    "3. Load in village location data\n",
    "4. Create function to load in lat and long data from each village row\n",
    "5. Function creates EE.Geometry.Point object from each lat and long and sets a buffer of a certain radius\n",
    "6. Function loads in all bands of data from that image and inputs it into correspond row of new dataframe\n",
    "7. Function adds village category to each row\n",
    "8. Train neural network to predict whether there is a village, destroyed village, or no settlmment in the image\n",
    "\"\"\""
   ]
  },
  {
   "cell_type": "code",
   "execution_count": 231,
   "metadata": {},
   "outputs": [],
   "source": [
    "import ee\n",
    "import datetime\n",
    "import pandas as pd\n",
    "import matplotlib.pyplot as plt\n",
    "import numpy as np\n",
    "from scipy import optimize\n",
    "from IPython.display import Image"
   ]
  },
  {
   "cell_type": "code",
   "execution_count": 232,
   "metadata": {},
   "outputs": [
    {
     "data": {
      "text/plain": [
       "True"
      ]
     },
     "execution_count": 232,
     "metadata": {},
     "output_type": "execute_result"
    }
   ],
   "source": [
    "#Authenticaing API access\n",
    "ee.Authenticate()"
   ]
  },
  {
   "cell_type": "code",
   "execution_count": 233,
   "metadata": {},
   "outputs": [],
   "source": [
    "#Initialzing Earth Engine\n",
    "ee.Initialize(project='sudan-1234')"
   ]
  },
  {
   "cell_type": "code",
   "execution_count": 234,
   "metadata": {},
   "outputs": [],
   "source": [
    "#loading in the LANDSAT7 image data\n",
    "LANDSAT7 = ee.ImageCollection(\"LANDSAT/LE07/C02/T1_L2\")"
   ]
  },
  {
   "cell_type": "code",
   "execution_count": null,
   "metadata": {},
   "outputs": [],
   "source": []
  },
  {
   "cell_type": "code",
   "execution_count": 235,
   "metadata": {},
   "outputs": [],
   "source": [
    "#loading in village data\n",
    "village_data = pd.read_csv('../Data/village_data.csv')"
   ]
  },
  {
   "cell_type": "code",
   "execution_count": 236,
   "metadata": {},
   "outputs": [
    {
     "data": {
      "text/html": [
       "<div>\n",
       "<style scoped>\n",
       "    .dataframe tbody tr th:only-of-type {\n",
       "        vertical-align: middle;\n",
       "    }\n",
       "\n",
       "    .dataframe tbody tr th {\n",
       "        vertical-align: top;\n",
       "    }\n",
       "\n",
       "    .dataframe thead th {\n",
       "        text-align: right;\n",
       "    }\n",
       "</style>\n",
       "<table border=\"1\" class=\"dataframe\">\n",
       "  <thead>\n",
       "    <tr style=\"text-align: right;\">\n",
       "      <th></th>\n",
       "      <th>NAME</th>\n",
       "      <th>LATITUDE</th>\n",
       "      <th>LAT_DD</th>\n",
       "      <th>LONGITUDE</th>\n",
       "      <th>LONG_DD</th>\n",
       "      <th>STATUS</th>\n",
       "      <th>STRUCTURES</th>\n",
       "      <th>YR_CONFIRM</th>\n",
       "      <th>APROX_STR1</th>\n",
       "      <th>APROX_STR2</th>\n",
       "      <th>YR_RANGE1</th>\n",
       "      <th>YR_RANGE2</th>\n",
       "      <th>SEC_TOWN</th>\n",
       "    </tr>\n",
       "  </thead>\n",
       "  <tbody>\n",
       "    <tr>\n",
       "      <th>0</th>\n",
       "      <td>NaN</td>\n",
       "      <td>131857</td>\n",
       "      <td>13.315833</td>\n",
       "      <td>0244942</td>\n",
       "      <td>24.828333</td>\n",
       "      <td>DAMAGED</td>\n",
       "      <td>~25 of ~50</td>\n",
       "      <td>NaN</td>\n",
       "      <td>25.0</td>\n",
       "      <td>50.0</td>\n",
       "      <td>NaN</td>\n",
       "      <td>NaN</td>\n",
       "      <td>NaN</td>\n",
       "    </tr>\n",
       "    <tr>\n",
       "      <th>1</th>\n",
       "      <td>DOLA</td>\n",
       "      <td>131905</td>\n",
       "      <td>13.318056</td>\n",
       "      <td>0245404</td>\n",
       "      <td>24.901111</td>\n",
       "      <td>DESTROYED</td>\n",
       "      <td>~200 of ~200</td>\n",
       "      <td>2008/2009</td>\n",
       "      <td>200.0</td>\n",
       "      <td>200.0</td>\n",
       "      <td>2008.0</td>\n",
       "      <td>2009.0</td>\n",
       "      <td>NaN</td>\n",
       "    </tr>\n",
       "    <tr>\n",
       "      <th>2</th>\n",
       "      <td>LABABIS</td>\n",
       "      <td>131613</td>\n",
       "      <td>13.270278</td>\n",
       "      <td>0244822</td>\n",
       "      <td>24.806111</td>\n",
       "      <td>DESTROYED</td>\n",
       "      <td>~100 of ~100</td>\n",
       "      <td>NaN</td>\n",
       "      <td>100.0</td>\n",
       "      <td>100.0</td>\n",
       "      <td>NaN</td>\n",
       "      <td>NaN</td>\n",
       "      <td>NaN</td>\n",
       "    </tr>\n",
       "    <tr>\n",
       "      <th>3</th>\n",
       "      <td>SURRI</td>\n",
       "      <td>131740</td>\n",
       "      <td>13.294444</td>\n",
       "      <td>0245013</td>\n",
       "      <td>24.836944</td>\n",
       "      <td>DESTROYED</td>\n",
       "      <td>~250 of ~300</td>\n",
       "      <td>2004</td>\n",
       "      <td>250.0</td>\n",
       "      <td>300.0</td>\n",
       "      <td>2004.0</td>\n",
       "      <td>2004.0</td>\n",
       "      <td>NaN</td>\n",
       "    </tr>\n",
       "    <tr>\n",
       "      <th>4</th>\n",
       "      <td>NANOREE</td>\n",
       "      <td>131813</td>\n",
       "      <td>13.303611</td>\n",
       "      <td>0245206</td>\n",
       "      <td>24.868333</td>\n",
       "      <td>DESTROYED</td>\n",
       "      <td>~75 of ~100</td>\n",
       "      <td>2003/2004</td>\n",
       "      <td>75.0</td>\n",
       "      <td>100.0</td>\n",
       "      <td>2003.0</td>\n",
       "      <td>2004.0</td>\n",
       "      <td>NaN</td>\n",
       "    </tr>\n",
       "  </tbody>\n",
       "</table>\n",
       "</div>"
      ],
      "text/plain": [
       "      NAME LATITUDE     LAT_DD LONGITUDE    LONG_DD     STATUS     STRUCTURES  \\\n",
       "0      NaN   131857  13.315833   0244942  24.828333    DAMAGED     ~25 of ~50   \n",
       "1     DOLA   131905  13.318056   0245404  24.901111  DESTROYED   ~200 of ~200   \n",
       "2  LABABIS   131613  13.270278   0244822  24.806111  DESTROYED   ~100 of ~100   \n",
       "3    SURRI   131740  13.294444   0245013  24.836944  DESTROYED  ~250 of ~300    \n",
       "4  NANOREE   131813  13.303611   0245206  24.868333  DESTROYED    ~75 of ~100   \n",
       "\n",
       "  YR_CONFIRM  APROX_STR1  APROX_STR2  YR_RANGE1  YR_RANGE2  SEC_TOWN  \n",
       "0        NaN        25.0        50.0        NaN        NaN       NaN  \n",
       "1  2008/2009       200.0       200.0     2008.0     2009.0       NaN  \n",
       "2        NaN       100.0       100.0        NaN        NaN       NaN  \n",
       "3       2004       250.0       300.0     2004.0     2004.0       NaN  \n",
       "4  2003/2004        75.0       100.0     2003.0     2004.0       NaN  "
      ]
     },
     "execution_count": 236,
     "metadata": {},
     "output_type": "execute_result"
    }
   ],
   "source": [
    "village_data.head()"
   ]
  },
  {
   "cell_type": "code",
   "execution_count": 237,
   "metadata": {},
   "outputs": [],
   "source": [
    "#dropping irrelevant columns\n",
    "village_data = village_data[[\"LAT_DD\", \"LONG_DD\", \"STATUS\", \"YR_CONFIRM\"]]"
   ]
  },
  {
   "cell_type": "code",
   "execution_count": 238,
   "metadata": {},
   "outputs": [
    {
     "data": {
      "text/html": [
       "<div>\n",
       "<style scoped>\n",
       "    .dataframe tbody tr th:only-of-type {\n",
       "        vertical-align: middle;\n",
       "    }\n",
       "\n",
       "    .dataframe tbody tr th {\n",
       "        vertical-align: top;\n",
       "    }\n",
       "\n",
       "    .dataframe thead th {\n",
       "        text-align: right;\n",
       "    }\n",
       "</style>\n",
       "<table border=\"1\" class=\"dataframe\">\n",
       "  <thead>\n",
       "    <tr style=\"text-align: right;\">\n",
       "      <th></th>\n",
       "      <th>LAT_DD</th>\n",
       "      <th>LONG_DD</th>\n",
       "      <th>STATUS</th>\n",
       "      <th>YR_CONFIRM</th>\n",
       "    </tr>\n",
       "  </thead>\n",
       "  <tbody>\n",
       "    <tr>\n",
       "      <th>0</th>\n",
       "      <td>13.315833</td>\n",
       "      <td>24.828333</td>\n",
       "      <td>DAMAGED</td>\n",
       "      <td>NaN</td>\n",
       "    </tr>\n",
       "    <tr>\n",
       "      <th>1</th>\n",
       "      <td>13.318056</td>\n",
       "      <td>24.901111</td>\n",
       "      <td>DESTROYED</td>\n",
       "      <td>2008/2009</td>\n",
       "    </tr>\n",
       "    <tr>\n",
       "      <th>2</th>\n",
       "      <td>13.270278</td>\n",
       "      <td>24.806111</td>\n",
       "      <td>DESTROYED</td>\n",
       "      <td>NaN</td>\n",
       "    </tr>\n",
       "    <tr>\n",
       "      <th>3</th>\n",
       "      <td>13.294444</td>\n",
       "      <td>24.836944</td>\n",
       "      <td>DESTROYED</td>\n",
       "      <td>2004</td>\n",
       "    </tr>\n",
       "    <tr>\n",
       "      <th>4</th>\n",
       "      <td>13.303611</td>\n",
       "      <td>24.868333</td>\n",
       "      <td>DESTROYED</td>\n",
       "      <td>2003/2004</td>\n",
       "    </tr>\n",
       "    <tr>\n",
       "      <th>...</th>\n",
       "      <td>...</td>\n",
       "      <td>...</td>\n",
       "      <td>...</td>\n",
       "      <td>...</td>\n",
       "    </tr>\n",
       "    <tr>\n",
       "      <th>9178</th>\n",
       "      <td>13.024167</td>\n",
       "      <td>24.462500</td>\n",
       "      <td>NO DAMAGE</td>\n",
       "      <td>NaN</td>\n",
       "    </tr>\n",
       "    <tr>\n",
       "      <th>9179</th>\n",
       "      <td>12.993611</td>\n",
       "      <td>24.438056</td>\n",
       "      <td>NO DAMAGE</td>\n",
       "      <td>NaN</td>\n",
       "    </tr>\n",
       "    <tr>\n",
       "      <th>9180</th>\n",
       "      <td>13.163056</td>\n",
       "      <td>24.690000</td>\n",
       "      <td>NO DAMAGE</td>\n",
       "      <td>NaN</td>\n",
       "    </tr>\n",
       "    <tr>\n",
       "      <th>9181</th>\n",
       "      <td>12.995278</td>\n",
       "      <td>24.205000</td>\n",
       "      <td>NO DAMAGE</td>\n",
       "      <td>NaN</td>\n",
       "    </tr>\n",
       "    <tr>\n",
       "      <th>9182</th>\n",
       "      <td>12.852778</td>\n",
       "      <td>24.351389</td>\n",
       "      <td>NO DAMAGE</td>\n",
       "      <td>NaN</td>\n",
       "    </tr>\n",
       "  </tbody>\n",
       "</table>\n",
       "<p>9183 rows × 4 columns</p>\n",
       "</div>"
      ],
      "text/plain": [
       "         LAT_DD    LONG_DD     STATUS YR_CONFIRM\n",
       "0     13.315833  24.828333    DAMAGED        NaN\n",
       "1     13.318056  24.901111  DESTROYED  2008/2009\n",
       "2     13.270278  24.806111  DESTROYED        NaN\n",
       "3     13.294444  24.836944  DESTROYED       2004\n",
       "4     13.303611  24.868333  DESTROYED  2003/2004\n",
       "...         ...        ...        ...        ...\n",
       "9178  13.024167  24.462500  NO DAMAGE        NaN\n",
       "9179  12.993611  24.438056  NO DAMAGE        NaN\n",
       "9180  13.163056  24.690000  NO DAMAGE        NaN\n",
       "9181  12.995278  24.205000  NO DAMAGE        NaN\n",
       "9182  12.852778  24.351389  NO DAMAGE        NaN\n",
       "\n",
       "[9183 rows x 4 columns]"
      ]
     },
     "execution_count": 238,
     "metadata": {},
     "output_type": "execute_result"
    }
   ],
   "source": [
    "village_data"
   ]
  },
  {
   "cell_type": "code",
   "execution_count": 239,
   "metadata": {},
   "outputs": [],
   "source": [
    "#spliting yr_confirm into a list of multiple years\n",
    "village_data['YR_CONFIRM'] = village_data['YR_CONFIRM'].str.split('/')\n",
    "\n",
    "#selecting the last year\n",
    "village_data['YR_CONFIRM'] = village_data['YR_CONFIRM'].apply(lambda x: x if x is np.nan else x[-1])\n"
   ]
  },
  {
   "cell_type": "code",
   "execution_count": null,
   "metadata": {},
   "outputs": [],
   "source": []
  },
  {
   "cell_type": "code",
   "execution_count": 240,
   "metadata": {},
   "outputs": [
    {
     "data": {
      "image/png": "[encoded data removed]",
      "text/plain": [
       "<Figure size 640x480 with 1 Axes>"
      ]
     },
     "metadata": {},
     "output_type": "display_data"
    },
    {
     "data": {
      "image/png": "[encoded data removed]",
      "text/plain": [
       "<Figure size 640x480 with 1 Axes>"
      ]
     },
     "metadata": {},
     "output_type": "display_data"
    }
   ],
   "source": [
    "#plotting histograms of categorial data\n",
    "village_data['STATUS'].hist()\n",
    "plt.show()\n",
    "\n",
    "village_data['YR_CONFIRM'] = village_data['YR_CONFIRM'].astype(float)\n",
    "village_data['YR_CONFIRM'].hist()\n",
    "plt.show()"
   ]
  },
  {
   "cell_type": "code",
   "execution_count": 241,
   "metadata": {},
   "outputs": [
    {
     "data": {
      "text/plain": [
       "YR_CONFIRM\n",
       "2004.0    1051\n",
       "2006.0     726\n",
       "2003.0     636\n",
       "2005.0     352\n",
       "2007.0     159\n",
       "2008.0      89\n",
       "2009.0      52\n",
       "2010.0      31\n",
       "Name: count, dtype: int64"
      ]
     },
     "execution_count": 241,
     "metadata": {},
     "output_type": "execute_result"
    }
   ],
   "source": [
    "#value counts for YR_CONFIRM\n",
    "village_data['YR_CONFIRM'].value_counts()"
   ]
  },
  {
   "cell_type": "code",
   "execution_count": 242,
   "metadata": {},
   "outputs": [
    {
     "data": {
      "text/plain": [
       "STATUS\n",
       "NO DAMAGE     5646\n",
       "DESTROYED     3019\n",
       "DAMAGED        516\n",
       "DESTROYED        1\n",
       "NO DAMAGE        1\n",
       "Name: count, dtype: int64"
      ]
     },
     "execution_count": 242,
     "metadata": {},
     "output_type": "execute_result"
    }
   ],
   "source": [
    "village_data[\"STATUS\"].value_counts()"
   ]
  },
  {
   "cell_type": "code",
   "execution_count": 243,
   "metadata": {},
   "outputs": [],
   "source": [
    "#seperating the village data into one dataframe of of damaged and destroyed villages and one of undamaged villages\n",
    "damaged_villages = village_data[village_data['STATUS'].isin([\"DAMAGED\", \"DESTROYED\"])]\n",
    "undamaged_villages = village_data[village_data['STATUS'] == \"NO DAMAGE\"]"
   ]
  },
  {
   "cell_type": "code",
   "execution_count": 244,
   "metadata": {},
   "outputs": [
    {
     "name": "stderr",
     "output_type": "stream",
     "text": [
      "C:\\Users\\harsh\\AppData\\Local\\Temp\\ipykernel_22048\\1666229773.py:2: SettingWithCopyWarning: \n",
      "A value is trying to be set on a copy of a slice from a DataFrame.\n",
      "Try using .loc[row_indexer,col_indexer] = value instead\n",
      "\n",
      "See the caveats in the documentation: https://pandas.pydata.org/pandas-docs/stable/user_guide/indexing.html#returning-a-view-versus-a-copy\n",
      "  damaged_villages['STATUS'] = damaged_villages['STATUS'].apply(lambda x: 'DAMAGED')\n"
     ]
    }
   ],
   "source": [
    "#merging status of damaged villages into one category called \"DAMAGED\"\n",
    "damaged_villages['STATUS'] = damaged_villages['STATUS'].apply(lambda x: 'DAMAGED')"
   ]
  },
  {
   "cell_type": "code",
   "execution_count": 245,
   "metadata": {},
   "outputs": [],
   "source": [
    "#limiting damaged villages to be before 2007\n",
    "damaged_villages = damaged_villages[damaged_villages['YR_CONFIRM'] < 2007]\n"
   ]
  },
  {
   "cell_type": "code",
   "execution_count": 246,
   "metadata": {},
   "outputs": [
    {
     "data": {
      "text/plain": [
       "<Axes: >"
      ]
     },
     "execution_count": 246,
     "metadata": {},
     "output_type": "execute_result"
    },
    {
     "data": {
      "image/png": "[encoded data removed]",
      "text/plain": [
       "<Figure size 640x480 with 1 Axes>"
      ]
     },
     "metadata": {},
     "output_type": "display_data"
    }
   ],
   "source": [
    "damaged_villages[\"STATUS\"].hist()"
   ]
  },
  {
   "cell_type": "code",
   "execution_count": 247,
   "metadata": {},
   "outputs": [],
   "source": [
    "#merging damaged and undamaged villages into one dataframe \n",
    "village_data = pd.concat([damaged_villages, undamaged_villages])"
   ]
  },
  {
   "cell_type": "code",
   "execution_count": 248,
   "metadata": {},
   "outputs": [
    {
     "data": {
      "text/plain": [
       "<Axes: >"
      ]
     },
     "execution_count": 248,
     "metadata": {},
     "output_type": "execute_result"
    },
    {
     "data": {
      "image/png": "[encoded data removed]",
      "text/plain": [
       "<Figure size 640x480 with 1 Axes>"
      ]
     },
     "metadata": {},
     "output_type": "display_data"
    }
   ],
   "source": [
    "village_data[\"STATUS\"].hist()"
   ]
  },
  {
   "cell_type": "code",
   "execution_count": 249,
   "metadata": {},
   "outputs": [
    {
     "data": {
      "text/plain": [
       "0.3286563614744352"
      ]
     },
     "execution_count": 249,
     "metadata": {},
     "output_type": "execute_result"
    }
   ],
   "source": [
    "#seeing the ratio between the two class sizes\n",
    "village_data[\"STATUS\"].value_counts()\n",
    "2764/(5646 + 2764)\n",
    "\n",
    "#30:70, decent ratio to keep going"
   ]
  },
  {
   "cell_type": "code",
   "execution_count": 250,
   "metadata": {},
   "outputs": [
    {
     "data": {
      "text/html": [
       "<div>\n",
       "<style scoped>\n",
       "    .dataframe tbody tr th:only-of-type {\n",
       "        vertical-align: middle;\n",
       "    }\n",
       "\n",
       "    .dataframe tbody tr th {\n",
       "        vertical-align: top;\n",
       "    }\n",
       "\n",
       "    .dataframe thead th {\n",
       "        text-align: right;\n",
       "    }\n",
       "</style>\n",
       "<table border=\"1\" class=\"dataframe\">\n",
       "  <thead>\n",
       "    <tr style=\"text-align: right;\">\n",
       "      <th></th>\n",
       "      <th>LAT_DD</th>\n",
       "      <th>LONG_DD</th>\n",
       "      <th>STATUS</th>\n",
       "      <th>YR_CONFIRM</th>\n",
       "    </tr>\n",
       "  </thead>\n",
       "  <tbody>\n",
       "    <tr>\n",
       "      <th>3</th>\n",
       "      <td>13.294444</td>\n",
       "      <td>24.836944</td>\n",
       "      <td>DAMAGED</td>\n",
       "      <td>2004.0</td>\n",
       "    </tr>\n",
       "    <tr>\n",
       "      <th>4</th>\n",
       "      <td>13.303611</td>\n",
       "      <td>24.868333</td>\n",
       "      <td>DAMAGED</td>\n",
       "      <td>2004.0</td>\n",
       "    </tr>\n",
       "    <tr>\n",
       "      <th>5</th>\n",
       "      <td>13.342222</td>\n",
       "      <td>24.800000</td>\n",
       "      <td>DAMAGED</td>\n",
       "      <td>2004.0</td>\n",
       "    </tr>\n",
       "    <tr>\n",
       "      <th>6</th>\n",
       "      <td>13.329167</td>\n",
       "      <td>24.820278</td>\n",
       "      <td>DAMAGED</td>\n",
       "      <td>2004.0</td>\n",
       "    </tr>\n",
       "    <tr>\n",
       "      <th>7</th>\n",
       "      <td>13.321111</td>\n",
       "      <td>24.860556</td>\n",
       "      <td>DAMAGED</td>\n",
       "      <td>2004.0</td>\n",
       "    </tr>\n",
       "    <tr>\n",
       "      <th>...</th>\n",
       "      <td>...</td>\n",
       "      <td>...</td>\n",
       "      <td>...</td>\n",
       "      <td>...</td>\n",
       "    </tr>\n",
       "    <tr>\n",
       "      <th>9178</th>\n",
       "      <td>13.024167</td>\n",
       "      <td>24.462500</td>\n",
       "      <td>NO DAMAGE</td>\n",
       "      <td>NaN</td>\n",
       "    </tr>\n",
       "    <tr>\n",
       "      <th>9179</th>\n",
       "      <td>12.993611</td>\n",
       "      <td>24.438056</td>\n",
       "      <td>NO DAMAGE</td>\n",
       "      <td>NaN</td>\n",
       "    </tr>\n",
       "    <tr>\n",
       "      <th>9180</th>\n",
       "      <td>13.163056</td>\n",
       "      <td>24.690000</td>\n",
       "      <td>NO DAMAGE</td>\n",
       "      <td>NaN</td>\n",
       "    </tr>\n",
       "    <tr>\n",
       "      <th>9181</th>\n",
       "      <td>12.995278</td>\n",
       "      <td>24.205000</td>\n",
       "      <td>NO DAMAGE</td>\n",
       "      <td>NaN</td>\n",
       "    </tr>\n",
       "    <tr>\n",
       "      <th>9182</th>\n",
       "      <td>12.852778</td>\n",
       "      <td>24.351389</td>\n",
       "      <td>NO DAMAGE</td>\n",
       "      <td>NaN</td>\n",
       "    </tr>\n",
       "  </tbody>\n",
       "</table>\n",
       "<p>8410 rows × 4 columns</p>\n",
       "</div>"
      ],
      "text/plain": [
       "         LAT_DD    LONG_DD     STATUS  YR_CONFIRM\n",
       "3     13.294444  24.836944    DAMAGED      2004.0\n",
       "4     13.303611  24.868333    DAMAGED      2004.0\n",
       "5     13.342222  24.800000    DAMAGED      2004.0\n",
       "6     13.329167  24.820278    DAMAGED      2004.0\n",
       "7     13.321111  24.860556    DAMAGED      2004.0\n",
       "...         ...        ...        ...         ...\n",
       "9178  13.024167  24.462500  NO DAMAGE         NaN\n",
       "9179  12.993611  24.438056  NO DAMAGE         NaN\n",
       "9180  13.163056  24.690000  NO DAMAGE         NaN\n",
       "9181  12.995278  24.205000  NO DAMAGE         NaN\n",
       "9182  12.852778  24.351389  NO DAMAGE         NaN\n",
       "\n",
       "[8410 rows x 4 columns]"
      ]
     },
     "execution_count": 250,
     "metadata": {},
     "output_type": "execute_result"
    }
   ],
   "source": [
    "village_data"
   ]
  },
  {
   "cell_type": "code",
   "execution_count": 251,
   "metadata": {},
   "outputs": [],
   "source": [
    "#speicifying first four months of 2007 as the time frame\n",
    "start_date = '2007-01-01'\n",
    "end_date = '2007-04-30'\n",
    "\n",
    "LANDSAT7 = LANDSAT7.select('SR_B1','SR_B2','SR_B3','SR_B4','SR_B5', 'SR_B7').filterDate(start_date, end_date)"
   ]
  },
  {
   "cell_type": "code",
   "execution_count": 252,
   "metadata": {},
   "outputs": [],
   "source": [
    "#reindex village data from 0 to the end\n",
    "village_data = village_data.reset_index()"
   ]
  },
  {
   "cell_type": "code",
   "execution_count": 253,
   "metadata": {},
   "outputs": [
    {
     "name": "stdout",
     "output_type": "stream",
     "text": [
      "8410\n"
     ]
    },
    {
     "name": "stderr",
     "output_type": "stream",
     "text": [
      "C:\\Users\\harsh\\AppData\\Local\\Temp\\ipykernel_22048\\643701098.py:38: FutureWarning: The behavior of DataFrame concatenation with empty or all-NA entries is deprecated. In a future version, this will no longer exclude empty or all-NA columns when determining the result dtypes. To retain the old behavior, exclude the relevant entries before the concat operation.\n",
      "  village_LANDSAT = pd.concat([village_LANDSAT, df], ignore_index=True)\n"
     ]
    }
   ],
   "source": [
    "#creates a feature collection of all the village data from LANDSAT7 data\n",
    "\n",
    "#code is blocked out because it takes too long to run, the output code is saved in Data/village_LANDSAT.csv\n",
    "\n",
    "#DO NOT DELETE\n",
    "\n",
    "\n",
    "\n",
    "features = [None] * len(village_data)\n",
    "for i in range(len(village_data)):\n",
    "    features[i] = ee.Feature(ee.Geometry.Point(village_data['LONG_DD'][i], village_data['LAT_DD'][i]))\n",
    "\n",
    "fc = ee.FeatureCollection(features)\n",
    "\n",
    "village_LANDSAT = pd.DataFrame(columns = ['B1', 'B2', 'B3', 'B4', 'B5', 'B7'])\n",
    "\n",
    "print(len(features))\n",
    "\n",
    "def add_image_data(feature):\n",
    "    point = feature.geometry()\n",
    "    point = point.buffer(100)\n",
    "    image = LANDSAT7.filterBounds(point).sort('CLOUD_COVER').first()\n",
    "    B1 = image.select('SR_B1').reduceRegion(ee.Reducer.mean(), point, 30).get('SR_B1')\n",
    "    B2 = image.select('SR_B2').reduceRegion(ee.Reducer.mean(), point, 30).get('SR_B2') \n",
    "    B3 = image.select('SR_B3').reduceRegion(ee.Reducer.mean(), point, 30).get('SR_B3')\n",
    "    B4 = image.select('SR_B4').reduceRegion(ee.Reducer.mean(), point, 30).get('SR_B4')\n",
    "    B5 = image.select('SR_B5').reduceRegion(ee.Reducer.mean(), point, 30).get('SR_B5')\n",
    "    B7 = image.select('SR_B7').reduceRegion(ee.Reducer.mean(), point, 30).get('SR_B7')\n",
    "    return feature.set({'B1': B1, 'B2': B2, 'B3': B3, 'B4': B4, 'B5': B5, 'B7': B7})\n",
    "\n",
    "\n",
    "for i in range(0,9):\n",
    "    batch = ee.FeatureCollection(features[i*1000:(i+1)*1000])\n",
    "    selected = features[i*1000:(i+1)*1000]\n",
    "    batch = batch.map(add_image_data)\n",
    "    cols = batch.getInfo()['features']\n",
    "    df = pd.DataFrame([col['properties'] for col in cols])\n",
    "    village_LANDSAT = pd.concat([village_LANDSAT, df], ignore_index=True)\n",
    "\n",
    "\n",
    "village_LANDSAT\n",
    "\n",
    "village_LANDSAT.to_csv('../Data/LANDSAT_BANDS.csv', index=False)\n",
    "\n"
   ]
  },
  {
   "cell_type": "code",
   "execution_count": 254,
   "metadata": {},
   "outputs": [],
   "source": [
    "village_LANDSAT = pd.read_csv('../Data/LANDSAT_BANDS.csv')"
   ]
  },
  {
   "cell_type": "code",
   "execution_count": 255,
   "metadata": {},
   "outputs": [],
   "source": [
    "#loading in lat and long from village data and adding to village_LANDSAT\n",
    "\n",
    "lat_long = village_data[['LAT_DD', 'LONG_DD']] \n",
    "\n",
    "village_LANDSAT = pd.concat([lat_long, village_LANDSAT], axis=1)\n"
   ]
  },
  {
   "cell_type": "code",
   "execution_count": 256,
   "metadata": {},
   "outputs": [],
   "source": [
    "#adding NBR and NDVI\n",
    "\n",
    "NBR = (village_LANDSAT['B4'] - village_LANDSAT['B7'])/(village_LANDSAT['B4'] + village_LANDSAT['B7'])\n",
    "NDVI = (village_LANDSAT['B4'] - village_LANDSAT['B3'])/(village_LANDSAT['B4'] + village_LANDSAT['B3'])\n",
    "\n",
    "village_LANDSAT['NBR'] = NBR\n",
    "village_LANDSAT['NDVI'] = NDVI\n"
   ]
  },
  {
   "cell_type": "code",
   "execution_count": 257,
   "metadata": {},
   "outputs": [],
   "source": [
    "#Adding visible bands, all bands, 4+5, and 4+5+7\n",
    "\n",
    "village_LANDSAT['B4+B5'] = village_LANDSAT['B4'] + village_LANDSAT['B5']  \n",
    "village_LANDSAT['B4+B5+B7'] = village_LANDSAT['B4+B5'] + village_LANDSAT['B7']\n",
    "village_LANDSAT['B1+B2+B3+B4+B5+B7'] = village_LANDSAT['B1'] + village_LANDSAT['B2'] + village_LANDSAT['B3'] + village_LANDSAT['B4'] + village_LANDSAT['B5'] + village_LANDSAT['B7']\n",
    "village_LANDSAT['B1+B2+B3'] = village_LANDSAT['B1'] + village_LANDSAT['B2'] + village_LANDSAT['B3']\n",
    "\n"
   ]
  },
  {
   "cell_type": "code",
   "execution_count": 258,
   "metadata": {},
   "outputs": [
    {
     "data": {
      "text/html": [
       "<div>\n",
       "<style scoped>\n",
       "    .dataframe tbody tr th:only-of-type {\n",
       "        vertical-align: middle;\n",
       "    }\n",
       "\n",
       "    .dataframe tbody tr th {\n",
       "        vertical-align: top;\n",
       "    }\n",
       "\n",
       "    .dataframe thead th {\n",
       "        text-align: right;\n",
       "    }\n",
       "</style>\n",
       "<table border=\"1\" class=\"dataframe\">\n",
       "  <thead>\n",
       "    <tr style=\"text-align: right;\">\n",
       "      <th></th>\n",
       "      <th>LAT_DD</th>\n",
       "      <th>LONG_DD</th>\n",
       "      <th>B1</th>\n",
       "      <th>B2</th>\n",
       "      <th>B3</th>\n",
       "      <th>B4</th>\n",
       "      <th>B5</th>\n",
       "      <th>B7</th>\n",
       "      <th>NBR</th>\n",
       "      <th>NDVI</th>\n",
       "      <th>B4+B5</th>\n",
       "      <th>B4+B5+B7</th>\n",
       "      <th>B1+B2+B3+B4+B5+B7</th>\n",
       "      <th>B1+B2+B3</th>\n",
       "      <th>STATUS</th>\n",
       "    </tr>\n",
       "  </thead>\n",
       "  <tbody>\n",
       "    <tr>\n",
       "      <th>0</th>\n",
       "      <td>13.294444</td>\n",
       "      <td>24.836944</td>\n",
       "      <td>10841.162406</td>\n",
       "      <td>13148.307236</td>\n",
       "      <td>16005.625428</td>\n",
       "      <td>19001.184889</td>\n",
       "      <td>22311.267861</td>\n",
       "      <td>19530.643575</td>\n",
       "      <td>-0.013741</td>\n",
       "      <td>0.085571</td>\n",
       "      <td>41312.452751</td>\n",
       "      <td>60843.096325</td>\n",
       "      <td>100838.191395</td>\n",
       "      <td>39995.095070</td>\n",
       "      <td>DAMAGED</td>\n",
       "    </tr>\n",
       "    <tr>\n",
       "      <th>1</th>\n",
       "      <td>13.303611</td>\n",
       "      <td>24.868333</td>\n",
       "      <td>10442.426843</td>\n",
       "      <td>12475.081831</td>\n",
       "      <td>15035.104428</td>\n",
       "      <td>17676.975234</td>\n",
       "      <td>22225.059347</td>\n",
       "      <td>20854.035494</td>\n",
       "      <td>-0.082455</td>\n",
       "      <td>0.080761</td>\n",
       "      <td>39902.034581</td>\n",
       "      <td>60756.070075</td>\n",
       "      <td>98708.683177</td>\n",
       "      <td>37952.613102</td>\n",
       "      <td>DAMAGED</td>\n",
       "    </tr>\n",
       "    <tr>\n",
       "      <th>2</th>\n",
       "      <td>13.342222</td>\n",
       "      <td>24.800000</td>\n",
       "      <td>10767.284752</td>\n",
       "      <td>13008.971331</td>\n",
       "      <td>15870.784009</td>\n",
       "      <td>19303.726099</td>\n",
       "      <td>21712.331925</td>\n",
       "      <td>17579.258138</td>\n",
       "      <td>0.046755</td>\n",
       "      <td>0.097597</td>\n",
       "      <td>41016.058024</td>\n",
       "      <td>58595.316162</td>\n",
       "      <td>98242.356254</td>\n",
       "      <td>39647.040091</td>\n",
       "      <td>DAMAGED</td>\n",
       "    </tr>\n",
       "    <tr>\n",
       "      <th>3</th>\n",
       "      <td>13.329167</td>\n",
       "      <td>24.820278</td>\n",
       "      <td>10471.542945</td>\n",
       "      <td>12485.620509</td>\n",
       "      <td>15037.908635</td>\n",
       "      <td>18256.125356</td>\n",
       "      <td>19407.163112</td>\n",
       "      <td>16361.050074</td>\n",
       "      <td>0.054744</td>\n",
       "      <td>0.096660</td>\n",
       "      <td>37663.288468</td>\n",
       "      <td>54024.338542</td>\n",
       "      <td>92019.410631</td>\n",
       "      <td>37995.072089</td>\n",
       "      <td>DAMAGED</td>\n",
       "    </tr>\n",
       "    <tr>\n",
       "      <th>4</th>\n",
       "      <td>13.321111</td>\n",
       "      <td>24.860556</td>\n",
       "      <td>10846.557699</td>\n",
       "      <td>13014.151124</td>\n",
       "      <td>15713.607693</td>\n",
       "      <td>18371.613971</td>\n",
       "      <td>21392.022029</td>\n",
       "      <td>20012.540121</td>\n",
       "      <td>-0.042750</td>\n",
       "      <td>0.077981</td>\n",
       "      <td>39763.636000</td>\n",
       "      <td>59776.176121</td>\n",
       "      <td>99350.492638</td>\n",
       "      <td>39574.316516</td>\n",
       "      <td>DAMAGED</td>\n",
       "    </tr>\n",
       "    <tr>\n",
       "      <th>...</th>\n",
       "      <td>...</td>\n",
       "      <td>...</td>\n",
       "      <td>...</td>\n",
       "      <td>...</td>\n",
       "      <td>...</td>\n",
       "      <td>...</td>\n",
       "      <td>...</td>\n",
       "      <td>...</td>\n",
       "      <td>...</td>\n",
       "      <td>...</td>\n",
       "      <td>...</td>\n",
       "      <td>...</td>\n",
       "      <td>...</td>\n",
       "      <td>...</td>\n",
       "      <td>...</td>\n",
       "    </tr>\n",
       "    <tr>\n",
       "      <th>8405</th>\n",
       "      <td>13.024167</td>\n",
       "      <td>24.462500</td>\n",
       "      <td>9942.443083</td>\n",
       "      <td>11146.044346</td>\n",
       "      <td>12641.739356</td>\n",
       "      <td>14668.761845</td>\n",
       "      <td>15458.044852</td>\n",
       "      <td>13965.270878</td>\n",
       "      <td>0.024568</td>\n",
       "      <td>0.074221</td>\n",
       "      <td>30126.806696</td>\n",
       "      <td>44092.077574</td>\n",
       "      <td>77822.304359</td>\n",
       "      <td>33730.226785</td>\n",
       "      <td>NO DAMAGE</td>\n",
       "    </tr>\n",
       "    <tr>\n",
       "      <th>8406</th>\n",
       "      <td>12.993611</td>\n",
       "      <td>24.438056</td>\n",
       "      <td>9939.814058</td>\n",
       "      <td>11307.782493</td>\n",
       "      <td>13217.178515</td>\n",
       "      <td>15826.847215</td>\n",
       "      <td>16838.210610</td>\n",
       "      <td>15221.111671</td>\n",
       "      <td>0.019510</td>\n",
       "      <td>0.089852</td>\n",
       "      <td>32665.057825</td>\n",
       "      <td>47886.169496</td>\n",
       "      <td>82350.944562</td>\n",
       "      <td>34464.775066</td>\n",
       "      <td>NO DAMAGE</td>\n",
       "    </tr>\n",
       "    <tr>\n",
       "      <th>8407</th>\n",
       "      <td>13.163056</td>\n",
       "      <td>24.690000</td>\n",
       "      <td>11187.728527</td>\n",
       "      <td>13680.510779</td>\n",
       "      <td>16485.530854</td>\n",
       "      <td>19668.345500</td>\n",
       "      <td>23864.617543</td>\n",
       "      <td>20736.744268</td>\n",
       "      <td>-0.026442</td>\n",
       "      <td>0.088035</td>\n",
       "      <td>43532.963043</td>\n",
       "      <td>64269.707312</td>\n",
       "      <td>105623.477472</td>\n",
       "      <td>41353.770161</td>\n",
       "      <td>NO DAMAGE</td>\n",
       "    </tr>\n",
       "    <tr>\n",
       "      <th>8408</th>\n",
       "      <td>12.995278</td>\n",
       "      <td>24.205000</td>\n",
       "      <td>10366.493671</td>\n",
       "      <td>11711.912419</td>\n",
       "      <td>13255.104801</td>\n",
       "      <td>16887.708747</td>\n",
       "      <td>17153.066598</td>\n",
       "      <td>15016.518075</td>\n",
       "      <td>0.058650</td>\n",
       "      <td>0.120513</td>\n",
       "      <td>34040.775345</td>\n",
       "      <td>49057.293420</td>\n",
       "      <td>84390.804311</td>\n",
       "      <td>35333.510891</td>\n",
       "      <td>NO DAMAGE</td>\n",
       "    </tr>\n",
       "    <tr>\n",
       "      <th>8409</th>\n",
       "      <td>12.852778</td>\n",
       "      <td>24.351389</td>\n",
       "      <td>10443.326062</td>\n",
       "      <td>11923.550237</td>\n",
       "      <td>13655.151418</td>\n",
       "      <td>16565.438984</td>\n",
       "      <td>19575.971256</td>\n",
       "      <td>17437.911972</td>\n",
       "      <td>-0.025658</td>\n",
       "      <td>0.096301</td>\n",
       "      <td>36141.410240</td>\n",
       "      <td>53579.322212</td>\n",
       "      <td>89601.349929</td>\n",
       "      <td>36022.027717</td>\n",
       "      <td>NO DAMAGE</td>\n",
       "    </tr>\n",
       "  </tbody>\n",
       "</table>\n",
       "<p>8410 rows × 15 columns</p>\n",
       "</div>"
      ],
      "text/plain": [
       "         LAT_DD    LONG_DD            B1            B2            B3  \\\n",
       "0     13.294444  24.836944  10841.162406  13148.307236  16005.625428   \n",
       "1     13.303611  24.868333  10442.426843  12475.081831  15035.104428   \n",
       "2     13.342222  24.800000  10767.284752  13008.971331  15870.784009   \n",
       "3     13.329167  24.820278  10471.542945  12485.620509  15037.908635   \n",
       "4     13.321111  24.860556  10846.557699  13014.151124  15713.607693   \n",
       "...         ...        ...           ...           ...           ...   \n",
       "8405  13.024167  24.462500   9942.443083  11146.044346  12641.739356   \n",
       "8406  12.993611  24.438056   9939.814058  11307.782493  13217.178515   \n",
       "8407  13.163056  24.690000  11187.728527  13680.510779  16485.530854   \n",
       "8408  12.995278  24.205000  10366.493671  11711.912419  13255.104801   \n",
       "8409  12.852778  24.351389  10443.326062  11923.550237  13655.151418   \n",
       "\n",
       "                B4            B5            B7       NBR      NDVI  \\\n",
       "0     19001.184889  22311.267861  19530.643575 -0.013741  0.085571   \n",
       "1     17676.975234  22225.059347  20854.035494 -0.082455  0.080761   \n",
       "2     19303.726099  21712.331925  17579.258138  0.046755  0.097597   \n",
       "3     18256.125356  19407.163112  16361.050074  0.054744  0.096660   \n",
       "4     18371.613971  21392.022029  20012.540121 -0.042750  0.077981   \n",
       "...            ...           ...           ...       ...       ...   \n",
       "8405  14668.761845  15458.044852  13965.270878  0.024568  0.074221   \n",
       "8406  15826.847215  16838.210610  15221.111671  0.019510  0.089852   \n",
       "8407  19668.345500  23864.617543  20736.744268 -0.026442  0.088035   \n",
       "8408  16887.708747  17153.066598  15016.518075  0.058650  0.120513   \n",
       "8409  16565.438984  19575.971256  17437.911972 -0.025658  0.096301   \n",
       "\n",
       "             B4+B5      B4+B5+B7  B1+B2+B3+B4+B5+B7      B1+B2+B3     STATUS  \n",
       "0     41312.452751  60843.096325      100838.191395  39995.095070    DAMAGED  \n",
       "1     39902.034581  60756.070075       98708.683177  37952.613102    DAMAGED  \n",
       "2     41016.058024  58595.316162       98242.356254  39647.040091    DAMAGED  \n",
       "3     37663.288468  54024.338542       92019.410631  37995.072089    DAMAGED  \n",
       "4     39763.636000  59776.176121       99350.492638  39574.316516    DAMAGED  \n",
       "...            ...           ...                ...           ...        ...  \n",
       "8405  30126.806696  44092.077574       77822.304359  33730.226785  NO DAMAGE  \n",
       "8406  32665.057825  47886.169496       82350.944562  34464.775066  NO DAMAGE  \n",
       "8407  43532.963043  64269.707312      105623.477472  41353.770161  NO DAMAGE  \n",
       "8408  34040.775345  49057.293420       84390.804311  35333.510891  NO DAMAGE  \n",
       "8409  36141.410240  53579.322212       89601.349929  36022.027717  NO DAMAGE  \n",
       "\n",
       "[8410 rows x 15 columns]"
      ]
     },
     "execution_count": 258,
     "metadata": {},
     "output_type": "execute_result"
    }
   ],
   "source": [
    "#adding status\n",
    "village_LANDSAT['STATUS'] = village_data['STATUS']\n",
    "\n",
    "village_LANDSAT"
   ]
  },
  {
   "cell_type": "code",
   "execution_count": 259,
   "metadata": {},
   "outputs": [],
   "source": [
    "village_LANDSAT.dropna(inplace=True)\n"
   ]
  },
  {
   "cell_type": "code",
   "execution_count": 260,
   "metadata": {},
   "outputs": [],
   "source": [
    "village_LANDSAT.to_csv('../Data/village_LANDSAT.csv', index=False)"
   ]
  }
 ],
 "metadata": {
  "kernelspec": {
   "display_name": ".venv",
   "language": "python",
   "name": "python3"
  },
  "language_info": {
   "codemirror_mode": {
    "name": "ipython",
    "version": 3
   },
   "file_extension": ".py",
   "mimetype": "text/x-python",
   "name": "python",
   "nbconvert_exporter": "python",
   "pygments_lexer": "ipython3",
   "version": "3.10.11"
  }
 },
 "nbformat": 4,
 "nbformat_minor": 2
}
