{
 "cells": [
  {
   "cell_type": "code",
   "execution_count": 142,
   "metadata": {},
   "outputs": [
    {
     "data": {
      "text/plain": [
       "'\\nSTEPS\\n1. Find the image collection corresponding to LANDSAT7 data\\n2. Filter the collection to January 2005 outside of the rainy season\\n3. Load in village location data\\n4. Create function to load in lat and long data from each village row\\n5. Function creates EE.Geometry.Point object from each lat and long and sets a buffer of a certain radius\\n6. Function loads in all bands of data from that image and inputs it into correspond row of new dataframe\\n7. Function adds village category to each row\\n8. Train neural network to predict whether there is a village, destroyed village, or no settlmment in the image\\n'"
      ]
     },
     "execution_count": 142,
     "metadata": {},
     "output_type": "execute_result"
    }
   ],
   "source": [
    "\"\"\"\n",
    "STEPS\n",
    "1. Find the image collection corresponding to LANDSAT7 data\n",
    "2. Filter the collection to January 2005 outside of the rainy season\n",
    "3. Load in village location data\n",
    "4. Create function to load in lat and long data from each village row\n",
    "5. Function creates EE.Geometry.Point object from each lat and long and sets a buffer of a certain radius\n",
    "6. Function loads in all bands of data from that image and inputs it into correspond row of new dataframe\n",
    "7. Function adds village category to each row\n",
    "8. Train neural network to predict whether there is a village, destroyed village, or no settlmment in the image\n",
    "\"\"\""
   ]
  },
  {
   "cell_type": "code",
   "execution_count": 143,
   "metadata": {},
   "outputs": [],
   "source": [
    "import ee\n",
    "import datetime\n",
    "import pandas as pd\n",
    "import matplotlib.pyplot as plt\n",
    "import numpy as np\n",
    "from scipy import optimize\n",
    "from IPython.display import Image"
   ]
  },
  {
   "cell_type": "code",
   "execution_count": 144,
   "metadata": {},
   "outputs": [
    {
     "data": {
      "text/plain": [
       "True"
      ]
     },
     "execution_count": 144,
     "metadata": {},
     "output_type": "execute_result"
    }
   ],
   "source": [
    "#Authenticaing API access\n",
    "ee.Authenticate()"
   ]
  },
  {
   "cell_type": "code",
   "execution_count": 145,
   "metadata": {},
   "outputs": [],
   "source": [
    "#Initialzing Earth Engine\n",
    "ee.Initialize(project='sudan-1234')"
   ]
  },
  {
   "cell_type": "code",
   "execution_count": 146,
   "metadata": {},
   "outputs": [],
   "source": [
    "#loading in the LANDSAT7 image data\n",
    "LANDSAT7 = ee.ImageCollection(\"LANDSAT/LE07/C02/T1_L2\")"
   ]
  },
  {
   "cell_type": "code",
   "execution_count": null,
   "metadata": {},
   "outputs": [],
   "source": []
  },
  {
   "cell_type": "code",
   "execution_count": 147,
   "metadata": {},
   "outputs": [],
   "source": [
    "#loading in village data\n",
    "village_data = pd.read_csv('../Data/village_data.csv')"
   ]
  },
  {
   "cell_type": "code",
   "execution_count": 148,
   "metadata": {},
   "outputs": [
    {
     "data": {
      "text/html": [
       "<div>\n",
       "<style scoped>\n",
       "    .dataframe tbody tr th:only-of-type {\n",
       "        vertical-align: middle;\n",
       "    }\n",
       "\n",
       "    .dataframe tbody tr th {\n",
       "        vertical-align: top;\n",
       "    }\n",
       "\n",
       "    .dataframe thead th {\n",
       "        text-align: right;\n",
       "    }\n",
       "</style>\n",
       "<table border=\"1\" class=\"dataframe\">\n",
       "  <thead>\n",
       "    <tr style=\"text-align: right;\">\n",
       "      <th></th>\n",
       "      <th>NAME</th>\n",
       "      <th>LATITUDE</th>\n",
       "      <th>LAT_DD</th>\n",
       "      <th>LONGITUDE</th>\n",
       "      <th>LONG_DD</th>\n",
       "      <th>STATUS</th>\n",
       "      <th>STRUCTURES</th>\n",
       "      <th>YR_CONFIRM</th>\n",
       "      <th>APROX_STR1</th>\n",
       "      <th>APROX_STR2</th>\n",
       "      <th>YR_RANGE1</th>\n",
       "      <th>YR_RANGE2</th>\n",
       "      <th>SEC_TOWN</th>\n",
       "    </tr>\n",
       "  </thead>\n",
       "  <tbody>\n",
       "    <tr>\n",
       "      <th>0</th>\n",
       "      <td>NaN</td>\n",
       "      <td>131857</td>\n",
       "      <td>13.315833</td>\n",
       "      <td>0244942</td>\n",
       "      <td>24.828333</td>\n",
       "      <td>DAMAGED</td>\n",
       "      <td>~25 of ~50</td>\n",
       "      <td>NaN</td>\n",
       "      <td>25.0</td>\n",
       "      <td>50.0</td>\n",
       "      <td>NaN</td>\n",
       "      <td>NaN</td>\n",
       "      <td>NaN</td>\n",
       "    </tr>\n",
       "    <tr>\n",
       "      <th>1</th>\n",
       "      <td>DOLA</td>\n",
       "      <td>131905</td>\n",
       "      <td>13.318056</td>\n",
       "      <td>0245404</td>\n",
       "      <td>24.901111</td>\n",
       "      <td>DESTROYED</td>\n",
       "      <td>~200 of ~200</td>\n",
       "      <td>2008/2009</td>\n",
       "      <td>200.0</td>\n",
       "      <td>200.0</td>\n",
       "      <td>2008.0</td>\n",
       "      <td>2009.0</td>\n",
       "      <td>NaN</td>\n",
       "    </tr>\n",
       "    <tr>\n",
       "      <th>2</th>\n",
       "      <td>LABABIS</td>\n",
       "      <td>131613</td>\n",
       "      <td>13.270278</td>\n",
       "      <td>0244822</td>\n",
       "      <td>24.806111</td>\n",
       "      <td>DESTROYED</td>\n",
       "      <td>~100 of ~100</td>\n",
       "      <td>NaN</td>\n",
       "      <td>100.0</td>\n",
       "      <td>100.0</td>\n",
       "      <td>NaN</td>\n",
       "      <td>NaN</td>\n",
       "      <td>NaN</td>\n",
       "    </tr>\n",
       "    <tr>\n",
       "      <th>3</th>\n",
       "      <td>SURRI</td>\n",
       "      <td>131740</td>\n",
       "      <td>13.294444</td>\n",
       "      <td>0245013</td>\n",
       "      <td>24.836944</td>\n",
       "      <td>DESTROYED</td>\n",
       "      <td>~250 of ~300</td>\n",
       "      <td>2004</td>\n",
       "      <td>250.0</td>\n",
       "      <td>300.0</td>\n",
       "      <td>2004.0</td>\n",
       "      <td>2004.0</td>\n",
       "      <td>NaN</td>\n",
       "    </tr>\n",
       "    <tr>\n",
       "      <th>4</th>\n",
       "      <td>NANOREE</td>\n",
       "      <td>131813</td>\n",
       "      <td>13.303611</td>\n",
       "      <td>0245206</td>\n",
       "      <td>24.868333</td>\n",
       "      <td>DESTROYED</td>\n",
       "      <td>~75 of ~100</td>\n",
       "      <td>2003/2004</td>\n",
       "      <td>75.0</td>\n",
       "      <td>100.0</td>\n",
       "      <td>2003.0</td>\n",
       "      <td>2004.0</td>\n",
       "      <td>NaN</td>\n",
       "    </tr>\n",
       "  </tbody>\n",
       "</table>\n",
       "</div>"
      ],
      "text/plain": [
       "      NAME LATITUDE     LAT_DD LONGITUDE    LONG_DD     STATUS     STRUCTURES  \\\n",
       "0      NaN   131857  13.315833   0244942  24.828333    DAMAGED     ~25 of ~50   \n",
       "1     DOLA   131905  13.318056   0245404  24.901111  DESTROYED   ~200 of ~200   \n",
       "2  LABABIS   131613  13.270278   0244822  24.806111  DESTROYED   ~100 of ~100   \n",
       "3    SURRI   131740  13.294444   0245013  24.836944  DESTROYED  ~250 of ~300    \n",
       "4  NANOREE   131813  13.303611   0245206  24.868333  DESTROYED    ~75 of ~100   \n",
       "\n",
       "  YR_CONFIRM  APROX_STR1  APROX_STR2  YR_RANGE1  YR_RANGE2  SEC_TOWN  \n",
       "0        NaN        25.0        50.0        NaN        NaN       NaN  \n",
       "1  2008/2009       200.0       200.0     2008.0     2009.0       NaN  \n",
       "2        NaN       100.0       100.0        NaN        NaN       NaN  \n",
       "3       2004       250.0       300.0     2004.0     2004.0       NaN  \n",
       "4  2003/2004        75.0       100.0     2003.0     2004.0       NaN  "
      ]
     },
     "execution_count": 148,
     "metadata": {},
     "output_type": "execute_result"
    }
   ],
   "source": [
    "village_data.head()"
   ]
  },
  {
   "cell_type": "code",
   "execution_count": 149,
   "metadata": {},
   "outputs": [],
   "source": [
    "#dropping irrelevant columns\n",
    "village_data = village_data[[\"LAT_DD\", \"LONG_DD\", \"STATUS\", \"YR_CONFIRM\"]]"
   ]
  },
  {
   "cell_type": "code",
   "execution_count": 150,
   "metadata": {},
   "outputs": [
    {
     "data": {
      "text/html": [
       "<div>\n",
       "<style scoped>\n",
       "    .dataframe tbody tr th:only-of-type {\n",
       "        vertical-align: middle;\n",
       "    }\n",
       "\n",
       "    .dataframe tbody tr th {\n",
       "        vertical-align: top;\n",
       "    }\n",
       "\n",
       "    .dataframe thead th {\n",
       "        text-align: right;\n",
       "    }\n",
       "</style>\n",
       "<table border=\"1\" class=\"dataframe\">\n",
       "  <thead>\n",
       "    <tr style=\"text-align: right;\">\n",
       "      <th></th>\n",
       "      <th>LAT_DD</th>\n",
       "      <th>LONG_DD</th>\n",
       "      <th>STATUS</th>\n",
       "      <th>YR_CONFIRM</th>\n",
       "    </tr>\n",
       "  </thead>\n",
       "  <tbody>\n",
       "    <tr>\n",
       "      <th>0</th>\n",
       "      <td>13.315833</td>\n",
       "      <td>24.828333</td>\n",
       "      <td>DAMAGED</td>\n",
       "      <td>NaN</td>\n",
       "    </tr>\n",
       "    <tr>\n",
       "      <th>1</th>\n",
       "      <td>13.318056</td>\n",
       "      <td>24.901111</td>\n",
       "      <td>DESTROYED</td>\n",
       "      <td>2008/2009</td>\n",
       "    </tr>\n",
       "    <tr>\n",
       "      <th>2</th>\n",
       "      <td>13.270278</td>\n",
       "      <td>24.806111</td>\n",
       "      <td>DESTROYED</td>\n",
       "      <td>NaN</td>\n",
       "    </tr>\n",
       "    <tr>\n",
       "      <th>3</th>\n",
       "      <td>13.294444</td>\n",
       "      <td>24.836944</td>\n",
       "      <td>DESTROYED</td>\n",
       "      <td>2004</td>\n",
       "    </tr>\n",
       "    <tr>\n",
       "      <th>4</th>\n",
       "      <td>13.303611</td>\n",
       "      <td>24.868333</td>\n",
       "      <td>DESTROYED</td>\n",
       "      <td>2003/2004</td>\n",
       "    </tr>\n",
       "    <tr>\n",
       "      <th>...</th>\n",
       "      <td>...</td>\n",
       "      <td>...</td>\n",
       "      <td>...</td>\n",
       "      <td>...</td>\n",
       "    </tr>\n",
       "    <tr>\n",
       "      <th>9178</th>\n",
       "      <td>13.024167</td>\n",
       "      <td>24.462500</td>\n",
       "      <td>NO DAMAGE</td>\n",
       "      <td>NaN</td>\n",
       "    </tr>\n",
       "    <tr>\n",
       "      <th>9179</th>\n",
       "      <td>12.993611</td>\n",
       "      <td>24.438056</td>\n",
       "      <td>NO DAMAGE</td>\n",
       "      <td>NaN</td>\n",
       "    </tr>\n",
       "    <tr>\n",
       "      <th>9180</th>\n",
       "      <td>13.163056</td>\n",
       "      <td>24.690000</td>\n",
       "      <td>NO DAMAGE</td>\n",
       "      <td>NaN</td>\n",
       "    </tr>\n",
       "    <tr>\n",
       "      <th>9181</th>\n",
       "      <td>12.995278</td>\n",
       "      <td>24.205000</td>\n",
       "      <td>NO DAMAGE</td>\n",
       "      <td>NaN</td>\n",
       "    </tr>\n",
       "    <tr>\n",
       "      <th>9182</th>\n",
       "      <td>12.852778</td>\n",
       "      <td>24.351389</td>\n",
       "      <td>NO DAMAGE</td>\n",
       "      <td>NaN</td>\n",
       "    </tr>\n",
       "  </tbody>\n",
       "</table>\n",
       "<p>9183 rows × 4 columns</p>\n",
       "</div>"
      ],
      "text/plain": [
       "         LAT_DD    LONG_DD     STATUS YR_CONFIRM\n",
       "0     13.315833  24.828333    DAMAGED        NaN\n",
       "1     13.318056  24.901111  DESTROYED  2008/2009\n",
       "2     13.270278  24.806111  DESTROYED        NaN\n",
       "3     13.294444  24.836944  DESTROYED       2004\n",
       "4     13.303611  24.868333  DESTROYED  2003/2004\n",
       "...         ...        ...        ...        ...\n",
       "9178  13.024167  24.462500  NO DAMAGE        NaN\n",
       "9179  12.993611  24.438056  NO DAMAGE        NaN\n",
       "9180  13.163056  24.690000  NO DAMAGE        NaN\n",
       "9181  12.995278  24.205000  NO DAMAGE        NaN\n",
       "9182  12.852778  24.351389  NO DAMAGE        NaN\n",
       "\n",
       "[9183 rows x 4 columns]"
      ]
     },
     "execution_count": 150,
     "metadata": {},
     "output_type": "execute_result"
    }
   ],
   "source": [
    "village_data"
   ]
  },
  {
   "cell_type": "code",
   "execution_count": 151,
   "metadata": {},
   "outputs": [],
   "source": [
    "#spliting yr_confirm into a list of multiple years\n",
    "village_data['YR_CONFIRM'] = village_data['YR_CONFIRM'].str.split('/')\n",
    "\n",
    "#selecting the last year\n",
    "village_data['YR_CONFIRM'] = village_data['YR_CONFIRM'].apply(lambda x: x if x is np.nan else x[-1])\n"
   ]
  },
  {
   "cell_type": "code",
   "execution_count": null,
   "metadata": {},
   "outputs": [],
   "source": []
  },
  {
   "cell_type": "code",
   "execution_count": 152,
   "metadata": {},
   "outputs": [
    {
     "data": {
      "image/png": "[encoded data removed]",
      "text/plain": [
       "<Figure size 640x480 with 1 Axes>"
      ]
     },
     "metadata": {},
     "output_type": "display_data"
    },
    {
     "data": {
      "image/png": "[encoded data removed]",
      "text/plain": [
       "<Figure size 640x480 with 1 Axes>"
      ]
     },
     "metadata": {},
     "output_type": "display_data"
    }
   ],
   "source": [
    "#plotting histograms of categorial data\n",
    "village_data['STATUS'].hist()\n",
    "plt.show()\n",
    "\n",
    "village_data['YR_CONFIRM'] = village_data['YR_CONFIRM'].astype(float)\n",
    "village_data['YR_CONFIRM'].hist()\n",
    "plt.show()"
   ]
  },
  {
   "cell_type": "code",
   "execution_count": 153,
   "metadata": {},
   "outputs": [
    {
     "data": {
      "text/plain": [
       "YR_CONFIRM\n",
       "2004.0    1051\n",
       "2006.0     726\n",
       "2003.0     636\n",
       "2005.0     352\n",
       "2007.0     159\n",
       "2008.0      89\n",
       "2009.0      52\n",
       "2010.0      31\n",
       "Name: count, dtype: int64"
      ]
     },
     "execution_count": 153,
     "metadata": {},
     "output_type": "execute_result"
    }
   ],
   "source": [
    "#value counts for YR_CONFIRM\n",
    "village_data['YR_CONFIRM'].value_counts()"
   ]
  },
  {
   "cell_type": "code",
   "execution_count": 154,
   "metadata": {},
   "outputs": [
    {
     "data": {
      "text/plain": [
       "STATUS\n",
       "NO DAMAGE     5646\n",
       "DESTROYED     3019\n",
       "DAMAGED        516\n",
       "DESTROYED        1\n",
       "NO DAMAGE        1\n",
       "Name: count, dtype: int64"
      ]
     },
     "execution_count": 154,
     "metadata": {},
     "output_type": "execute_result"
    }
   ],
   "source": [
    "village_data[\"STATUS\"].value_counts()"
   ]
  },
  {
   "cell_type": "code",
   "execution_count": 155,
   "metadata": {},
   "outputs": [],
   "source": [
    "#seperating the village data into one dataframe of of damaged and destroyed villages and one of undamaged villages\n",
    "damaged_villages = village_data[village_data['STATUS'].isin([\"DAMAGED\", \"DESTROYED\"])]\n",
    "undamaged_villages = village_data[village_data['STATUS'] == \"NO DAMAGE\"]"
   ]
  },
  {
   "cell_type": "code",
   "execution_count": 156,
   "metadata": {},
   "outputs": [
    {
     "name": "stderr",
     "output_type": "stream",
     "text": [
      "C:\\Users\\harsh\\AppData\\Local\\Temp\\ipykernel_4480\\1666229773.py:2: SettingWithCopyWarning: \n",
      "A value is trying to be set on a copy of a slice from a DataFrame.\n",
      "Try using .loc[row_indexer,col_indexer] = value instead\n",
      "\n",
      "See the caveats in the documentation: https://pandas.pydata.org/pandas-docs/stable/user_guide/indexing.html#returning-a-view-versus-a-copy\n",
      "  damaged_villages['STATUS'] = damaged_villages['STATUS'].apply(lambda x: 'DAMAGED')\n"
     ]
    }
   ],
   "source": [
    "#merging status of damaged villages into one category called \"DAMAGED\"\n",
    "damaged_villages['STATUS'] = damaged_villages['STATUS'].apply(lambda x: 'DAMAGED')"
   ]
  },
  {
   "cell_type": "code",
   "execution_count": 157,
   "metadata": {},
   "outputs": [],
   "source": [
    "#limiting damaged villages to be before 2007\n",
    "damaged_villages = damaged_villages[damaged_villages['YR_CONFIRM'] == 2004]\n"
   ]
  },
  {
   "cell_type": "code",
   "execution_count": 158,
   "metadata": {},
   "outputs": [
    {
     "data": {
      "text/plain": [
       "<Axes: >"
      ]
     },
     "execution_count": 158,
     "metadata": {},
     "output_type": "execute_result"
    },
    {
     "data": {
      "image/png": "[encoded data removed]",
      "text/plain": [
       "<Figure size 640x480 with 1 Axes>"
      ]
     },
     "metadata": {},
     "output_type": "display_data"
    }
   ],
   "source": [
    "damaged_villages[\"STATUS\"].hist()"
   ]
  },
  {
   "cell_type": "code",
   "execution_count": 159,
   "metadata": {},
   "outputs": [],
   "source": [
    "#merging damaged and undamaged villages into one dataframe \n",
    "village_data = pd.concat([damaged_villages, undamaged_villages])"
   ]
  },
  {
   "cell_type": "code",
   "execution_count": 160,
   "metadata": {},
   "outputs": [
    {
     "data": {
      "text/plain": [
       "<Axes: >"
      ]
     },
     "execution_count": 160,
     "metadata": {},
     "output_type": "execute_result"
    },
    {
     "data": {
      "image/png": "[encoded data removed]",
      "text/plain": [
       "<Figure size 640x480 with 1 Axes>"
      ]
     },
     "metadata": {},
     "output_type": "display_data"
    }
   ],
   "source": [
    "village_data[\"STATUS\"].hist()"
   ]
  },
  {
   "cell_type": "code",
   "execution_count": 161,
   "metadata": {},
   "outputs": [
    {
     "data": {
      "text/plain": [
       "0.3286563614744352"
      ]
     },
     "execution_count": 161,
     "metadata": {},
     "output_type": "execute_result"
    }
   ],
   "source": [
    "#seeing the ratio between the two class sizes\n",
    "village_data[\"STATUS\"].value_counts()\n",
    "2764/(5646 + 2764)\n",
    "\n",
    "#30:70, decent ratio to keep going"
   ]
  },
  {
   "cell_type": "code",
   "execution_count": 162,
   "metadata": {},
   "outputs": [
    {
     "data": {
      "text/html": [
       "<div>\n",
       "<style scoped>\n",
       "    .dataframe tbody tr th:only-of-type {\n",
       "        vertical-align: middle;\n",
       "    }\n",
       "\n",
       "    .dataframe tbody tr th {\n",
       "        vertical-align: top;\n",
       "    }\n",
       "\n",
       "    .dataframe thead th {\n",
       "        text-align: right;\n",
       "    }\n",
       "</style>\n",
       "<table border=\"1\" class=\"dataframe\">\n",
       "  <thead>\n",
       "    <tr style=\"text-align: right;\">\n",
       "      <th></th>\n",
       "      <th>LAT_DD</th>\n",
       "      <th>LONG_DD</th>\n",
       "      <th>STATUS</th>\n",
       "      <th>YR_CONFIRM</th>\n",
       "    </tr>\n",
       "  </thead>\n",
       "  <tbody>\n",
       "    <tr>\n",
       "      <th>3</th>\n",
       "      <td>13.294444</td>\n",
       "      <td>24.836944</td>\n",
       "      <td>DAMAGED</td>\n",
       "      <td>2004.0</td>\n",
       "    </tr>\n",
       "    <tr>\n",
       "      <th>4</th>\n",
       "      <td>13.303611</td>\n",
       "      <td>24.868333</td>\n",
       "      <td>DAMAGED</td>\n",
       "      <td>2004.0</td>\n",
       "    </tr>\n",
       "    <tr>\n",
       "      <th>5</th>\n",
       "      <td>13.342222</td>\n",
       "      <td>24.800000</td>\n",
       "      <td>DAMAGED</td>\n",
       "      <td>2004.0</td>\n",
       "    </tr>\n",
       "    <tr>\n",
       "      <th>6</th>\n",
       "      <td>13.329167</td>\n",
       "      <td>24.820278</td>\n",
       "      <td>DAMAGED</td>\n",
       "      <td>2004.0</td>\n",
       "    </tr>\n",
       "    <tr>\n",
       "      <th>7</th>\n",
       "      <td>13.321111</td>\n",
       "      <td>24.860556</td>\n",
       "      <td>DAMAGED</td>\n",
       "      <td>2004.0</td>\n",
       "    </tr>\n",
       "    <tr>\n",
       "      <th>...</th>\n",
       "      <td>...</td>\n",
       "      <td>...</td>\n",
       "      <td>...</td>\n",
       "      <td>...</td>\n",
       "    </tr>\n",
       "    <tr>\n",
       "      <th>9178</th>\n",
       "      <td>13.024167</td>\n",
       "      <td>24.462500</td>\n",
       "      <td>NO DAMAGE</td>\n",
       "      <td>NaN</td>\n",
       "    </tr>\n",
       "    <tr>\n",
       "      <th>9179</th>\n",
       "      <td>12.993611</td>\n",
       "      <td>24.438056</td>\n",
       "      <td>NO DAMAGE</td>\n",
       "      <td>NaN</td>\n",
       "    </tr>\n",
       "    <tr>\n",
       "      <th>9180</th>\n",
       "      <td>13.163056</td>\n",
       "      <td>24.690000</td>\n",
       "      <td>NO DAMAGE</td>\n",
       "      <td>NaN</td>\n",
       "    </tr>\n",
       "    <tr>\n",
       "      <th>9181</th>\n",
       "      <td>12.995278</td>\n",
       "      <td>24.205000</td>\n",
       "      <td>NO DAMAGE</td>\n",
       "      <td>NaN</td>\n",
       "    </tr>\n",
       "    <tr>\n",
       "      <th>9182</th>\n",
       "      <td>12.852778</td>\n",
       "      <td>24.351389</td>\n",
       "      <td>NO DAMAGE</td>\n",
       "      <td>NaN</td>\n",
       "    </tr>\n",
       "  </tbody>\n",
       "</table>\n",
       "<p>6696 rows × 4 columns</p>\n",
       "</div>"
      ],
      "text/plain": [
       "         LAT_DD    LONG_DD     STATUS  YR_CONFIRM\n",
       "3     13.294444  24.836944    DAMAGED      2004.0\n",
       "4     13.303611  24.868333    DAMAGED      2004.0\n",
       "5     13.342222  24.800000    DAMAGED      2004.0\n",
       "6     13.329167  24.820278    DAMAGED      2004.0\n",
       "7     13.321111  24.860556    DAMAGED      2004.0\n",
       "...         ...        ...        ...         ...\n",
       "9178  13.024167  24.462500  NO DAMAGE         NaN\n",
       "9179  12.993611  24.438056  NO DAMAGE         NaN\n",
       "9180  13.163056  24.690000  NO DAMAGE         NaN\n",
       "9181  12.995278  24.205000  NO DAMAGE         NaN\n",
       "9182  12.852778  24.351389  NO DAMAGE         NaN\n",
       "\n",
       "[6696 rows x 4 columns]"
      ]
     },
     "execution_count": 162,
     "metadata": {},
     "output_type": "execute_result"
    }
   ],
   "source": [
    "village_data"
   ]
  },
  {
   "cell_type": "code",
   "execution_count": 163,
   "metadata": {},
   "outputs": [],
   "source": [
    "#speicifying first four months of 2007 as the time frame\n",
    "start_date = '2005-01-01'\n",
    "end_date = '2005-03-31'\n",
    "\n",
    "LANDSAT7 = LANDSAT7.select('SR_B1','SR_B2','SR_B3','SR_B4','SR_B5', 'SR_B7').filterDate(start_date, end_date)"
   ]
  },
  {
   "cell_type": "code",
   "execution_count": 164,
   "metadata": {},
   "outputs": [],
   "source": [
    "#reindex village data from 0 to the end\n",
    "village_data = village_data.reset_index()"
   ]
  },
  {
   "cell_type": "code",
   "execution_count": 165,
   "metadata": {},
   "outputs": [
    {
     "name": "stdout",
     "output_type": "stream",
     "text": [
      "6696\n"
     ]
    },
    {
     "name": "stderr",
     "output_type": "stream",
     "text": [
      "C:\\Users\\harsh\\AppData\\Local\\Temp\\ipykernel_4480\\1509931146.py:38: FutureWarning: The behavior of DataFrame concatenation with empty or all-NA entries is deprecated. In a future version, this will no longer exclude empty or all-NA columns when determining the result dtypes. To retain the old behavior, exclude the relevant entries before the concat operation.\n",
      "  village_LANDSAT = pd.concat([village_LANDSAT, df], ignore_index=True)\n"
     ]
    }
   ],
   "source": [
    "#creates a feature collection of all the village data from LANDSAT7 data\n",
    "\n",
    "#code is blocked out because it takes too long to run, the output code is saved in Data/village_LANDSAT.csv\n",
    "\n",
    "#DO NOT DELETE\n",
    "\n",
    "\n",
    "\n",
    "features = [None] * len(village_data)\n",
    "for i in range(len(village_data)):\n",
    "    features[i] = ee.Feature(ee.Geometry.Point(village_data['LONG_DD'][i], village_data['LAT_DD'][i]))\n",
    "\n",
    "fc = ee.FeatureCollection(features)\n",
    "\n",
    "village_LANDSAT = pd.DataFrame(columns = ['B1', 'B2', 'B3', 'B4', 'B5', 'B7'])\n",
    "\n",
    "print(len(features))\n",
    "\n",
    "def add_image_data(feature):\n",
    "    point = feature.geometry()\n",
    "    point = point.buffer(100)\n",
    "    image = LANDSAT7.filterBounds(point).sort('CLOUD_COVER').first()\n",
    "    B1 = image.select('SR_B1').reduceRegion(ee.Reducer.mean(), point, 30).get('SR_B1')\n",
    "    B2 = image.select('SR_B2').reduceRegion(ee.Reducer.mean(), point, 30).get('SR_B2') \n",
    "    B3 = image.select('SR_B3').reduceRegion(ee.Reducer.mean(), point, 30).get('SR_B3')\n",
    "    B4 = image.select('SR_B4').reduceRegion(ee.Reducer.mean(), point, 30).get('SR_B4')\n",
    "    B5 = image.select('SR_B5').reduceRegion(ee.Reducer.mean(), point, 30).get('SR_B5')\n",
    "    B7 = image.select('SR_B7').reduceRegion(ee.Reducer.mean(), point, 30).get('SR_B7')\n",
    "    return feature.set({'B1': B1, 'B2': B2, 'B3': B3, 'B4': B4, 'B5': B5, 'B7': B7})\n",
    "\n",
    "\n",
    "for i in range(0, len(features)//1000 + 1):\n",
    "    batch = ee.FeatureCollection(features[i*1000:(i+1)*1000])\n",
    "    selected = features[i*1000:(i+1)*1000]\n",
    "    batch = batch.map(add_image_data)\n",
    "    cols = batch.getInfo()['features']\n",
    "    df = pd.DataFrame([col['properties'] for col in cols])\n",
    "    village_LANDSAT = pd.concat([village_LANDSAT, df], ignore_index=True)\n",
    "\n",
    "\n",
    "village_LANDSAT\n",
    "\n",
    "village_LANDSAT.to_csv('../Data/LANDSAT_BANDS.csv', index=False)\n",
    "\n"
   ]
  },
  {
   "cell_type": "code",
   "execution_count": 166,
   "metadata": {},
   "outputs": [],
   "source": [
    "village_LANDSAT = pd.read_csv('../Data/LANDSAT_BANDS.csv')"
   ]
  },
  {
   "cell_type": "code",
   "execution_count": 167,
   "metadata": {},
   "outputs": [],
   "source": [
    "#loading in lat and long from village data and adding to village_LANDSAT\n",
    "\n",
    "lat_long = village_data[['LAT_DD', 'LONG_DD']] \n",
    "\n",
    "village_LANDSAT = pd.concat([lat_long, village_LANDSAT], axis=1)\n"
   ]
  },
  {
   "cell_type": "code",
   "execution_count": 168,
   "metadata": {},
   "outputs": [],
   "source": [
    "#adding NBR and NDVI\n",
    "\n",
    "NBR = (village_LANDSAT['B4'] - village_LANDSAT['B7'])/(village_LANDSAT['B4'] + village_LANDSAT['B7'])\n",
    "NDVI = (village_LANDSAT['B4'] - village_LANDSAT['B3'])/(village_LANDSAT['B4'] + village_LANDSAT['B3'])\n",
    "\n",
    "village_LANDSAT['NBR'] = NBR\n",
    "village_LANDSAT['NDVI'] = NDVI\n"
   ]
  },
  {
   "cell_type": "code",
   "execution_count": 169,
   "metadata": {},
   "outputs": [],
   "source": [
    "#Adding visible bands, all bands, 4+5, and 4+5+7\n",
    "\n",
    "village_LANDSAT['B4+B5'] = village_LANDSAT['B4'] + village_LANDSAT['B5']  \n",
    "village_LANDSAT['B4+B5+B7'] = village_LANDSAT['B4+B5'] + village_LANDSAT['B7']\n",
    "village_LANDSAT['B1+B2+B3+B4+B5+B7'] = village_LANDSAT['B1'] + village_LANDSAT['B2'] + village_LANDSAT['B3'] + village_LANDSAT['B4'] + village_LANDSAT['B5'] + village_LANDSAT['B7']\n",
    "village_LANDSAT['B1+B2+B3'] = village_LANDSAT['B1'] + village_LANDSAT['B2'] + village_LANDSAT['B3']\n",
    "\n"
   ]
  },
  {
   "cell_type": "code",
   "execution_count": 170,
   "metadata": {},
   "outputs": [
    {
     "data": {
      "text/html": [
       "<div>\n",
       "<style scoped>\n",
       "    .dataframe tbody tr th:only-of-type {\n",
       "        vertical-align: middle;\n",
       "    }\n",
       "\n",
       "    .dataframe tbody tr th {\n",
       "        vertical-align: top;\n",
       "    }\n",
       "\n",
       "    .dataframe thead th {\n",
       "        text-align: right;\n",
       "    }\n",
       "</style>\n",
       "<table border=\"1\" class=\"dataframe\">\n",
       "  <thead>\n",
       "    <tr style=\"text-align: right;\">\n",
       "      <th></th>\n",
       "      <th>LAT_DD</th>\n",
       "      <th>LONG_DD</th>\n",
       "      <th>B1</th>\n",
       "      <th>B2</th>\n",
       "      <th>B3</th>\n",
       "      <th>B4</th>\n",
       "      <th>B5</th>\n",
       "      <th>B7</th>\n",
       "      <th>NBR</th>\n",
       "      <th>NDVI</th>\n",
       "      <th>B4+B5</th>\n",
       "      <th>B4+B5+B7</th>\n",
       "      <th>B1+B2+B3+B4+B5+B7</th>\n",
       "      <th>B1+B2+B3</th>\n",
       "      <th>STATUS</th>\n",
       "    </tr>\n",
       "  </thead>\n",
       "  <tbody>\n",
       "    <tr>\n",
       "      <th>0</th>\n",
       "      <td>13.294444</td>\n",
       "      <td>24.836944</td>\n",
       "      <td>10883.791828</td>\n",
       "      <td>12812.493723</td>\n",
       "      <td>15124.667199</td>\n",
       "      <td>17196.777905</td>\n",
       "      <td>21704.680781</td>\n",
       "      <td>20315.450126</td>\n",
       "      <td>-0.083137</td>\n",
       "      <td>0.064109</td>\n",
       "      <td>38901.458685</td>\n",
       "      <td>59216.908811</td>\n",
       "      <td>98037.861561</td>\n",
       "      <td>38820.952751</td>\n",
       "      <td>DAMAGED</td>\n",
       "    </tr>\n",
       "    <tr>\n",
       "      <th>1</th>\n",
       "      <td>13.303611</td>\n",
       "      <td>24.868333</td>\n",
       "      <td>10674.158484</td>\n",
       "      <td>12625.117870</td>\n",
       "      <td>15067.591336</td>\n",
       "      <td>17181.217870</td>\n",
       "      <td>21640.773285</td>\n",
       "      <td>20312.340794</td>\n",
       "      <td>-0.083511</td>\n",
       "      <td>0.065541</td>\n",
       "      <td>38821.991155</td>\n",
       "      <td>59134.331949</td>\n",
       "      <td>97501.199639</td>\n",
       "      <td>38366.867690</td>\n",
       "      <td>DAMAGED</td>\n",
       "    </tr>\n",
       "    <tr>\n",
       "      <th>2</th>\n",
       "      <td>13.342222</td>\n",
       "      <td>24.800000</td>\n",
       "      <td>10887.253341</td>\n",
       "      <td>12782.080069</td>\n",
       "      <td>15058.627299</td>\n",
       "      <td>17241.876870</td>\n",
       "      <td>22098.757167</td>\n",
       "      <td>20599.969046</td>\n",
       "      <td>-0.088740</td>\n",
       "      <td>0.067592</td>\n",
       "      <td>39340.634038</td>\n",
       "      <td>59940.603084</td>\n",
       "      <td>98668.563792</td>\n",
       "      <td>38727.960708</td>\n",
       "      <td>DAMAGED</td>\n",
       "    </tr>\n",
       "    <tr>\n",
       "      <th>3</th>\n",
       "      <td>13.329167</td>\n",
       "      <td>24.820278</td>\n",
       "      <td>10707.357819</td>\n",
       "      <td>12354.258127</td>\n",
       "      <td>14399.360557</td>\n",
       "      <td>16401.403331</td>\n",
       "      <td>19081.676400</td>\n",
       "      <td>18083.776092</td>\n",
       "      <td>-0.048785</td>\n",
       "      <td>0.065000</td>\n",
       "      <td>35483.079731</td>\n",
       "      <td>53566.855823</td>\n",
       "      <td>91027.832326</td>\n",
       "      <td>37460.976503</td>\n",
       "      <td>DAMAGED</td>\n",
       "    </tr>\n",
       "    <tr>\n",
       "      <th>4</th>\n",
       "      <td>13.321111</td>\n",
       "      <td>24.860556</td>\n",
       "      <td>10916.338318</td>\n",
       "      <td>12825.809040</td>\n",
       "      <td>15321.416505</td>\n",
       "      <td>17433.431001</td>\n",
       "      <td>20618.430887</td>\n",
       "      <td>19303.668988</td>\n",
       "      <td>-0.050909</td>\n",
       "      <td>0.064479</td>\n",
       "      <td>38051.861888</td>\n",
       "      <td>57355.530875</td>\n",
       "      <td>96419.094738</td>\n",
       "      <td>39063.563863</td>\n",
       "      <td>DAMAGED</td>\n",
       "    </tr>\n",
       "    <tr>\n",
       "      <th>...</th>\n",
       "      <td>...</td>\n",
       "      <td>...</td>\n",
       "      <td>...</td>\n",
       "      <td>...</td>\n",
       "      <td>...</td>\n",
       "      <td>...</td>\n",
       "      <td>...</td>\n",
       "      <td>...</td>\n",
       "      <td>...</td>\n",
       "      <td>...</td>\n",
       "      <td>...</td>\n",
       "      <td>...</td>\n",
       "      <td>...</td>\n",
       "      <td>...</td>\n",
       "      <td>...</td>\n",
       "    </tr>\n",
       "    <tr>\n",
       "      <th>6691</th>\n",
       "      <td>13.024167</td>\n",
       "      <td>24.462500</td>\n",
       "      <td>9989.069081</td>\n",
       "      <td>11158.393521</td>\n",
       "      <td>12537.991424</td>\n",
       "      <td>13930.241067</td>\n",
       "      <td>14697.565031</td>\n",
       "      <td>13183.476894</td>\n",
       "      <td>0.027542</td>\n",
       "      <td>0.052601</td>\n",
       "      <td>28627.806098</td>\n",
       "      <td>41811.282992</td>\n",
       "      <td>75496.737018</td>\n",
       "      <td>33685.454026</td>\n",
       "      <td>NO DAMAGE</td>\n",
       "    </tr>\n",
       "    <tr>\n",
       "      <th>6692</th>\n",
       "      <td>12.993611</td>\n",
       "      <td>24.438056</td>\n",
       "      <td>10306.868856</td>\n",
       "      <td>11696.923252</td>\n",
       "      <td>13526.310982</td>\n",
       "      <td>15576.287376</td>\n",
       "      <td>17062.336526</td>\n",
       "      <td>15483.594024</td>\n",
       "      <td>0.002984</td>\n",
       "      <td>0.070440</td>\n",
       "      <td>32638.623902</td>\n",
       "      <td>48122.217927</td>\n",
       "      <td>83652.321017</td>\n",
       "      <td>35530.103090</td>\n",
       "      <td>NO DAMAGE</td>\n",
       "    </tr>\n",
       "    <tr>\n",
       "      <th>6693</th>\n",
       "      <td>13.163056</td>\n",
       "      <td>24.690000</td>\n",
       "      <td>11184.537014</td>\n",
       "      <td>13369.696475</td>\n",
       "      <td>15958.614806</td>\n",
       "      <td>18394.004905</td>\n",
       "      <td>23420.900536</td>\n",
       "      <td>20713.982662</td>\n",
       "      <td>-0.059322</td>\n",
       "      <td>0.070894</td>\n",
       "      <td>41814.905441</td>\n",
       "      <td>62528.888103</td>\n",
       "      <td>103041.736398</td>\n",
       "      <td>40512.848295</td>\n",
       "      <td>NO DAMAGE</td>\n",
       "    </tr>\n",
       "    <tr>\n",
       "      <th>6694</th>\n",
       "      <td>12.995278</td>\n",
       "      <td>24.205000</td>\n",
       "      <td>10565.176417</td>\n",
       "      <td>11852.686737</td>\n",
       "      <td>13448.439959</td>\n",
       "      <td>16342.242673</td>\n",
       "      <td>17200.712852</td>\n",
       "      <td>14935.617972</td>\n",
       "      <td>0.044972</td>\n",
       "      <td>0.097138</td>\n",
       "      <td>33542.955525</td>\n",
       "      <td>48478.573498</td>\n",
       "      <td>84344.876611</td>\n",
       "      <td>35866.303113</td>\n",
       "      <td>NO DAMAGE</td>\n",
       "    </tr>\n",
       "    <tr>\n",
       "      <th>6695</th>\n",
       "      <td>12.852778</td>\n",
       "      <td>24.351389</td>\n",
       "      <td>10621.899920</td>\n",
       "      <td>12026.764692</td>\n",
       "      <td>13652.241698</td>\n",
       "      <td>15850.313819</td>\n",
       "      <td>19155.219217</td>\n",
       "      <td>17304.212484</td>\n",
       "      <td>-0.043852</td>\n",
       "      <td>0.074504</td>\n",
       "      <td>35005.533037</td>\n",
       "      <td>52309.745521</td>\n",
       "      <td>88610.651832</td>\n",
       "      <td>36300.906311</td>\n",
       "      <td>NO DAMAGE</td>\n",
       "    </tr>\n",
       "  </tbody>\n",
       "</table>\n",
       "<p>6696 rows × 15 columns</p>\n",
       "</div>"
      ],
      "text/plain": [
       "         LAT_DD    LONG_DD            B1            B2            B3  \\\n",
       "0     13.294444  24.836944  10883.791828  12812.493723  15124.667199   \n",
       "1     13.303611  24.868333  10674.158484  12625.117870  15067.591336   \n",
       "2     13.342222  24.800000  10887.253341  12782.080069  15058.627299   \n",
       "3     13.329167  24.820278  10707.357819  12354.258127  14399.360557   \n",
       "4     13.321111  24.860556  10916.338318  12825.809040  15321.416505   \n",
       "...         ...        ...           ...           ...           ...   \n",
       "6691  13.024167  24.462500   9989.069081  11158.393521  12537.991424   \n",
       "6692  12.993611  24.438056  10306.868856  11696.923252  13526.310982   \n",
       "6693  13.163056  24.690000  11184.537014  13369.696475  15958.614806   \n",
       "6694  12.995278  24.205000  10565.176417  11852.686737  13448.439959   \n",
       "6695  12.852778  24.351389  10621.899920  12026.764692  13652.241698   \n",
       "\n",
       "                B4            B5            B7       NBR      NDVI  \\\n",
       "0     17196.777905  21704.680781  20315.450126 -0.083137  0.064109   \n",
       "1     17181.217870  21640.773285  20312.340794 -0.083511  0.065541   \n",
       "2     17241.876870  22098.757167  20599.969046 -0.088740  0.067592   \n",
       "3     16401.403331  19081.676400  18083.776092 -0.048785  0.065000   \n",
       "4     17433.431001  20618.430887  19303.668988 -0.050909  0.064479   \n",
       "...            ...           ...           ...       ...       ...   \n",
       "6691  13930.241067  14697.565031  13183.476894  0.027542  0.052601   \n",
       "6692  15576.287376  17062.336526  15483.594024  0.002984  0.070440   \n",
       "6693  18394.004905  23420.900536  20713.982662 -0.059322  0.070894   \n",
       "6694  16342.242673  17200.712852  14935.617972  0.044972  0.097138   \n",
       "6695  15850.313819  19155.219217  17304.212484 -0.043852  0.074504   \n",
       "\n",
       "             B4+B5      B4+B5+B7  B1+B2+B3+B4+B5+B7      B1+B2+B3     STATUS  \n",
       "0     38901.458685  59216.908811       98037.861561  38820.952751    DAMAGED  \n",
       "1     38821.991155  59134.331949       97501.199639  38366.867690    DAMAGED  \n",
       "2     39340.634038  59940.603084       98668.563792  38727.960708    DAMAGED  \n",
       "3     35483.079731  53566.855823       91027.832326  37460.976503    DAMAGED  \n",
       "4     38051.861888  57355.530875       96419.094738  39063.563863    DAMAGED  \n",
       "...            ...           ...                ...           ...        ...  \n",
       "6691  28627.806098  41811.282992       75496.737018  33685.454026  NO DAMAGE  \n",
       "6692  32638.623902  48122.217927       83652.321017  35530.103090  NO DAMAGE  \n",
       "6693  41814.905441  62528.888103      103041.736398  40512.848295  NO DAMAGE  \n",
       "6694  33542.955525  48478.573498       84344.876611  35866.303113  NO DAMAGE  \n",
       "6695  35005.533037  52309.745521       88610.651832  36300.906311  NO DAMAGE  \n",
       "\n",
       "[6696 rows x 15 columns]"
      ]
     },
     "execution_count": 170,
     "metadata": {},
     "output_type": "execute_result"
    }
   ],
   "source": [
    "#adding status\n",
    "village_LANDSAT['STATUS'] = village_data['STATUS']\n",
    "\n",
    "village_LANDSAT"
   ]
  },
  {
   "cell_type": "code",
   "execution_count": 171,
   "metadata": {},
   "outputs": [],
   "source": [
    "village_LANDSAT.dropna(inplace=True)\n"
   ]
  },
  {
   "cell_type": "code",
   "execution_count": 172,
   "metadata": {},
   "outputs": [],
   "source": [
    "village_LANDSAT.to_csv('../Data/village_LANDSAT.csv', index=False)"
   ]
  }
 ],
 "metadata": {
  "kernelspec": {
   "display_name": ".venv",
   "language": "python",
   "name": "python3"
  },
  "language_info": {
   "codemirror_mode": {
    "name": "ipython",
    "version": 3
   },
   "file_extension": ".py",
   "mimetype": "text/x-python",
   "name": "python",
   "nbconvert_exporter": "python",
   "pygments_lexer": "ipython3",
   "version": "3.10.11"
  }
 },
 "nbformat": 4,
 "nbformat_minor": 2
}
